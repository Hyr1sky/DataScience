{
 "cells": [
  {
   "cell_type": "markdown",
   "metadata": {},
   "source": [
    "# Tricks in torchvision"
   ]
  },
  {
   "cell_type": "code",
   "execution_count": 1,
   "metadata": {},
   "outputs": [
    {
     "ename": "NameError",
     "evalue": "name 'tensor' is not defined",
     "output_type": "error",
     "traceback": [
      "\u001b[1;31m---------------------------------------------------------------------------\u001b[0m",
      "\u001b[1;31mNameError\u001b[0m                                 Traceback (most recent call last)",
      "\u001b[1;32md:\\VScode WorkStation\\DataScience\\Task_3_Mid-Term\\tricks_Torchvision.ipynb 单元格 2\u001b[0m line \u001b[0;36m6\n\u001b[0;32m      <a href='vscode-notebook-cell:/d%3A/VScode%20WorkStation/DataScience/Task_3_Mid-Term/tricks_Torchvision.ipynb#W0sZmlsZQ%3D%3D?line=1'>2</a>\u001b[0m \u001b[39mimport\u001b[39;00m \u001b[39mtorchvision\u001b[39;00m\n\u001b[0;32m      <a href='vscode-notebook-cell:/d%3A/VScode%20WorkStation/DataScience/Task_3_Mid-Term/tricks_Torchvision.ipynb#W0sZmlsZQ%3D%3D?line=3'>4</a>\u001b[0m \u001b[39m# torchvision.utils提供了一些常用的方法，可以方便的进行图像的操作。\u001b[39;00m\n\u001b[1;32m----> <a href='vscode-notebook-cell:/d%3A/VScode%20WorkStation/DataScience/Task_3_Mid-Term/tricks_Torchvision.ipynb#W0sZmlsZQ%3D%3D?line=5'>6</a>\u001b[0m torchvision\u001b[39m.\u001b[39mutils\u001b[39m.\u001b[39mmake_grid(tensor, nrow\u001b[39m=\u001b[39m\u001b[39m8\u001b[39m, padding\u001b[39m=\u001b[39m\u001b[39m2\u001b[39m, normalize\u001b[39m=\u001b[39m\u001b[39mFalse\u001b[39;00m, \u001b[39mrange\u001b[39m\u001b[39m=\u001b[39m\u001b[39mNone\u001b[39;00m, scale_each\u001b[39m=\u001b[39m\u001b[39mFalse\u001b[39;00m, pad_value\u001b[39m=\u001b[39m\u001b[39m0\u001b[39m)\n",
      "\u001b[1;31mNameError\u001b[0m: name 'tensor' is not defined"
     ]
    }
   ],
   "source": [
    "import torch\n",
    "import torchvision\n",
    "\n",
    "# torchvision.utils提供了一些常用的方法，可以方便的进行图像的操作。\n",
    "\n",
    "# 制作一个图形网格\n",
    "torchvision.utils.make_grid(tensor, nrow=8, padding=2, normalize=False, range=None, scale_each=False, pad_value=0)\n",
    "\n",
    "# 保存图像\n",
    "torchvision.utils.save_image(tensor, filename, nrow=8, padding=2, normalize=False, range=None, scale_each=False, pad_value=0)"
   ]
  }
 ],
 "metadata": {
  "kernelspec": {
   "display_name": "base",
   "language": "python",
   "name": "python3"
  },
  "language_info": {
   "codemirror_mode": {
    "name": "ipython",
    "version": 3
   },
   "file_extension": ".py",
   "mimetype": "text/x-python",
   "name": "python",
   "nbconvert_exporter": "python",
   "pygments_lexer": "ipython3",
   "version": "3.10.9"
  }
 },
 "nbformat": 4,
 "nbformat_minor": 2
}
